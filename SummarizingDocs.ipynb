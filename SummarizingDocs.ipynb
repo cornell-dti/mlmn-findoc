{
 "cells": [
  {
   "cell_type": "code",
   "execution_count": 5,
   "metadata": {},
   "outputs": [],
   "source": [
    "from openai import OpenAI"
   ]
  },
  {
   "cell_type": "code",
   "execution_count": 12,
   "metadata": {},
   "outputs": [
    {
     "name": "stdout",
     "output_type": "stream",
     "text": [
      "In the ancient city of Eridu, explorer Mariam uncovers a hidden chamber filled with Sumerian artifacts revealing their deep cosmic knowledge. She finds a pulsating crystal that grants her visions of the Sumerians' rise and fall due to their quest for godlike power. Realizing the importance of harmony with the universe, Mariam emerges with the crystal, embarking on a new journey as a guardian of ancient wisdom, seeking enlightenment for humanity's future.\n"
     ]
    }
   ],
   "source": [
    "# Set your OpenAI API key\n",
    "api_key = \"API KEY HERE\"\n",
    "\n",
    "client = OpenAI(api_key=api_key)\n",
    "\n",
    "text = \"\"\"In the heart of the ancient city of Eridu, hidden beneath the veil of time and sand, lay a secret as old as civilization itself. This was a place where myth and history blurred, where legends whispered in the wind, and where an intrepid explorer named Mariam found herself standing at the threshold of discovery.\n",
    "\n",
    "Mariam had spent years piecing together ancient manuscripts and deciphering long-forgotten maps, all leading her to this moment. The sun hung low in the sky, casting golden hues over the desert, as if the heavens themselves were illuminating her path. With her heart pounding in anticipation, she stepped into the ruins, her torch cutting through the darkness that had shrouded the secrets of Eridu for millennia.\n",
    "\n",
    "As she delved deeper into the labyrinth of stone and shadow, Mariam encountered symbols and relics that spoke of the Sumerians' deep connection to the cosmos. It was said that they had harnessed the power of the stars themselves, a knowledge so profound and potent that it was hidden away from the world, deemed too dangerous for mankind to wield.\n",
    "\n",
    "The air grew colder as Mariam ventured further, the silence of the ruins punctuated only by the echo of her footsteps and the soft crackle of her torch. Finally, she arrived at a chamber, its walls adorned with celestial maps and cuneiform inscriptions that glowed with an ethereal light, undimmed by the passage of time.\n",
    "\n",
    "In the center of the chamber stood an artifact, unlike anything Mariam had ever seen. It was a crystal, pulsating with a light that seemed to mimic the stars themselves. As she approached, the air thrummed with energy, and the crystal began to resonate, a low hum that grew in intensity until it filled the chamber, vibrating in harmony with the beating of her heart.\n",
    "\n",
    "Mariam reached out, her fingers brushing against the crystal. In that moment, a flood of visions filled her mind: the Sumerians, their cities aglow with the light of the stars, a civilization that had reached the pinnacle of its glory not through conquest, but through harmony with the cosmos. She saw their downfall, not by sword or plague, but by their own hubris, as they sought to ascend beyond their humanity, to become like the gods themselves.\n",
    "\n",
    "As the visions faded, Mariam was left with a profound sense of awe and a newfound purpose. She understood now that the true power of the Sumerians lay not in their technology or magic, but in their wisdom, their understanding that true strength comes from harmony with the universe.\n",
    "\n",
    "With the crystal in her possession, Mariam emerged from the ruins of Eridu, the first rays of dawn casting a new light over the desert. She knew that her journey was far from over, that the knowledge she had uncovered was a beacon that would guide her on a new path, a quest not for power, but for enlightenment.\n",
    "\n",
    "And so, Mariam set forth into the world, a guardian of ancient wisdom, a seeker of truth in an age where such treasures were more precious than gold or jewels. For in her hands lay not just the secrets of the past, but the hope for a future where humanity might once again reach for the stars, guided by the light of their ancestors.\"\"\"\n",
    "\n",
    "system = [{\"role\": \"system\", \"content\": \"You are an AI designed to provide concise summaries. Focus on extracting key findings, implications, and any significant conclusions from the provided text, suitable for a general audience.\"}]\n",
    "user = [{\"role\": \"user\", \"content\": f\"Summarize this fictional story briefly. Use complete sentences.:\\n\\n{text}\"}]\n",
    "\n",
    "chat_history = []  \n",
    "\n",
    "chat_completion = client.chat.completions.create(\n",
    "  messages=system + chat_history + user,\n",
    "  model=\"gpt-3.5-turbo\",\n",
    "  max_tokens=100,  # More focused response\n",
    "  temperature=0.5,  # More deterministic\n",
    "  top_p=0.9,\n",
    ")\n",
    "\n",
    "print(chat_completion.choices[0].message.content)\n",
    "\n",
    "example_output = \"In the ancient city of Eridu, explorer Mariam uncovers a hidden chamber filled with Sumerian artifacts revealing their deep cosmic knowledge. She finds a pulsating crystal that grants her visions of the Sumerians' rise and fall due to their quest for godlike power. Realizing the importance of harmony with the universe, Mariam emerges with the crystal, embarking on a new journey as a guardian of ancient wisdom, seeking enlightenment for humanity's future.\""
   ]
  },
  {
   "cell_type": "code",
   "execution_count": null,
   "metadata": {},
   "outputs": [],
   "source": []
  }
 ],
 "metadata": {
  "kernelspec": {
   "display_name": "env",
   "language": "python",
   "name": "python3"
  },
  "language_info": {
   "codemirror_mode": {
    "name": "ipython",
    "version": 3
   },
   "file_extension": ".py",
   "mimetype": "text/x-python",
   "name": "python",
   "nbconvert_exporter": "python",
   "pygments_lexer": "ipython3",
   "version": "3.8.3"
  }
 },
 "nbformat": 4,
 "nbformat_minor": 2
}
