{
 "cells": [
  {
   "cell_type": "code",
   "execution_count": null,
   "metadata": {},
   "outputs": [],
   "source": [
    "from openai import OpenAI"
   ]
  },
  {
   "cell_type": "code",
   "execution_count": null,
   "metadata": {},
   "outputs": [],
   "source": [
    "# Set your OpenAI API key\n",
    "api_key = \"API KEY HERE\"\n",
    "\n",
    "client = OpenAI(api_key=api_key)\n",
    "\n",
    "document1 = \"eege\"\n",
    "document2 = \"eeg\"\n",
    "\n",
    "system = [{\"role\": \"system\", \"content\": \"You are an AI designed to do document comparisons. Highlight the differences between the following two documents.\"}]\n",
    "user = [{\"role\": \"user\", \"content\": f\"Compare the two following documents:\\n\\Document 1:\\n{document1}\\n\\Document 2:\\n{document2}\"}]\n",
    "\n",
    "\n",
    "chat_history = []  \n",
    "\n",
    "chat_completion = client.chat.completions.create(\n",
    "  messages=system + chat_history + user,\n",
    "  model=\"gpt-3.5-turbo\",\n",
    "  max_tokens=max(len(document1),len(document2)), \n",
    "  temperature=0.5,  \n",
    "  top_p=0.9,\n",
    ")\n",
    "\n",
    "print(chat_completion.choices[0].message.content)\n",
    "\n",
    "example_output = \"Differences: -e\""
   ]
  }
 ],
 "metadata": {
  "language_info": {
   "name": "python"
  }
 },
 "nbformat": 4,
 "nbformat_minor": 2
}
